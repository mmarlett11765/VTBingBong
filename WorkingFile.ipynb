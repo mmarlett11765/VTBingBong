{
 "cells": [
  {
   "cell_type": "code",
   "execution_count": 31,
   "metadata": {},
   "outputs": [],
   "source": [
    "from glob import glob\n",
    "import pydicom as dicom\n",
    "import numpy as np\n",
    "import os\n",
    "import matplotlib.pyplot as plt\n",
    "from point import Point\n",
    "from vector import Vector\n",
    "from ray import Ray"
   ]
  },
  {
   "cell_type": "code",
   "execution_count": 27,
   "metadata": {},
   "outputs": [],
   "source": [
    "input_dir = 'dataset/patient_A'\n",
    "series = os.listdir(input_dir)\n",
    "files = glob(f\"{input_dir}/{series[1]}/*.dcm\")\n",
    "\n",
    "data = {}\n",
    "locations = []\n",
    "for file in files:\n",
    "    img = dicom.dcmread(file)\n",
    "    loc = float(img.SliceLocation)\n",
    "    locations.append(loc)\n",
    "    data[loc] = img.pixel_array\n",
    "slices = []\n",
    "locations.sort()\n",
    "for location in locations:\n",
    "    slices.append(data[location])\n",
    "img = np.stack(slices)\n",
    "img = img/img.max()\n",
    "img = np.transpose(img,[1,2,0])"
   ]
  },
  {
   "cell_type": "code",
   "execution_count": 32,
   "metadata": {},
   "outputs": [
    {
     "name": "stdout",
     "output_type": "stream",
     "text": [
      "Rendering:# 0.0%\r"
     ]
    }
   ],
   "source": [
    "width = 300\n",
    "height = 200\n",
    "aspect_ratio = float(width) / height\n",
    "x0 = -1.0\n",
    "x1 = +1.0\n",
    "xstep = (x1 - x0) / (width - 1)\n",
    "y0 = -1.0 / aspect_ratio\n",
    "y1 = +1.0 / aspect_ratio\n",
    "ystep = (y1 - y0) / (height - 1)\n",
    "\n",
    "camera = Vector(0,-35,-1)\n",
    "pixels = np.zeros((width,height))\n",
    "\n",
    "prog = 0.0\n",
    "cur_prog = prog\n",
    "total = width * height\n",
    "bar = 1\n",
    "print('Rendering:# {}%'.format(cur_prog),end='\\r')\n",
    "# Lets throw some rays\n",
    "for j in range(height):\n",
    "    y = y0 + j * ystep\n",
    "    for i in range(width):\n",
    "        x = x0 + i * xstep\n",
    "        ray = Ray(camera, Point(x,y) - camera)\n",
    "        break\n",
    "    break\n",
    "#         pixels.set_pixel(i,j, self.ray_trace(ray, scene))\n",
    "#         prog += 1\n",
    "#         if (prog/total*100) >= (cur_prog/total*100 + 5):\n",
    "#             cur_prog = prog\n",
    "#             bar += 1\n",
    "#             print('Rendering:{} {}%'.format(''.join(['#' for x in range(bar)]),int(cur_prog/total*100)),end='\\r')\n",
    "# print('Rendering:{} {}%'.format(''.join(['#' for x in range(bar+1)]),100),end='\\n')"
   ]
  },
  {
   "cell_type": "code",
   "execution_count": 42,
   "metadata": {},
   "outputs": [
    {
     "name": "stdout",
     "output_type": "stream",
     "text": [
      "(-0.02910153616513078, 0.9991527416694902, 0.02910153616513078)\n"
     ]
    }
   ],
   "source": [
    "print(ray.direction)"
   ]
  },
  {
   "cell_type": "code",
   "execution_count": null,
   "metadata": {},
   "outputs": [],
   "source": [
    "v_orgin = [0,0]\n",
    "v = np.array([[0,0,0,0,0,0],\n",
    "              [0,1,0,1,1,0],\n",
    "              [0,1,0,1,1,0],\n",
    "              [0,0,0,0,0,0]])\n",
    "\n",
    "camera = [0,-2]\n",
    "width = 6\n",
    "camera_direction = camera - v_orgin\n",
    "l_orgin = \n",
    "\n",
    "for i in width:\n"
   ]
  },
  {
   "cell_type": "code",
   "execution_count": 46,
   "metadata": {},
   "outputs": [
    {
     "data": {
      "text/plain": [
       "(4, 6)"
      ]
     },
     "execution_count": 46,
     "metadata": {},
     "output_type": "execute_result"
    }
   ],
   "source": [
    "v.shape"
   ]
  },
  {
   "cell_type": "code",
   "execution_count": null,
   "metadata": {},
   "outputs": [],
   "source": [
    "\n",
    "def Ray(orgin,direction):\n",
    "    orgin = orgin\n",
    "    direction = "
   ]
  }
 ],
 "metadata": {
  "kernelspec": {
   "display_name": "bingbong",
   "language": "python",
   "name": "python3"
  },
  "language_info": {
   "codemirror_mode": {
    "name": "ipython",
    "version": 3
   },
   "file_extension": ".py",
   "mimetype": "text/x-python",
   "name": "python",
   "nbconvert_exporter": "python",
   "pygments_lexer": "ipython3",
   "version": "3.13.0"
  }
 },
 "nbformat": 4,
 "nbformat_minor": 2
}
